{
 "cells": [
  {
   "cell_type": "markdown",
   "metadata": {},
   "source": [
    "# [Pytikz Package](https://github.com/allefeld/pytikz)\n",
    "\n",
    "This package provides a way to create, compile, view, and save figures based on the LaTeX package TikZ & PGF. It makes the creation of TikZ figures easier when (part of) the underlying data is computed, and makes the preview and debugging of figures within a Jupyter notebook seamless.\n",
    "\n",
    "### Download the lib by\n",
    "```\n",
    "pip install git+https://github.com/allefeld/pytikz.git\n",
    "```"
   ]
  },
  {
   "cell_type": "code",
   "execution_count": null,
   "metadata": {},
   "outputs": [],
   "source": [
    "# pip install git+https://github.com/allefeld/pytikz.git"
   ]
  },
  {
   "cell_type": "code",
   "execution_count": 31,
   "metadata": {},
   "outputs": [],
   "source": [
    "from tikz import *"
   ]
  },
  {
   "cell_type": "code",
   "execution_count": 32,
   "metadata": {},
   "outputs": [],
   "source": [
    "def Young_Diagram_Drawer(Partition,terbula=None,file_name=None):\n",
    "    # tableaux is None to draw Young diagram\n",
    "    # tableaux is a list or tuple to draw Young tableaux\n",
    "    # file_name = None do not save the picture\n",
    "    # file_name = 'defalut' is to save picture with svg\n",
    "    # file_name = 'path/picturename.svg' to save as you wish, the type of picture can be .pdf,.svg,.png\n",
    "\n",
    "\n",
    "    Young_Diagram = Picture()\n",
    "    unit = 1\n",
    "    \n",
    "    if tableaux:\n",
    "        if tableaux == 'default':\n",
    "            count = 0\n",
    "            for i,j in enumerate(Partition):\n",
    "                for k in range(j):\n",
    "                    \n",
    "                    Young_Diagram.draw((k*unit,-i*unit),rectangle(f'+({unit},-{unit})'))\n",
    "                    Young_Diagram.node(fr'${count+1}$',at=((k+1/2)*unit,(-i-1/2)*unit),font=r'\\Huge')\n",
    "                    count +=1\n",
    "        else:\n",
    "            count = 0\n",
    "            for i,j in enumerate(Partition):\n",
    "                for k in range(j):\n",
    "                    \n",
    "                    Young_Diagram.draw((k*unit,-i*unit),rectangle(f'+({unit},-{unit})'))\n",
    "                    Young_Diagram.node(fr'${terbula[count]}$',at=((k+1/2)*unit,(-i-1/2)*unit),font=r'\\Huge')\n",
    "                    count +=1\n",
    "        a = 'Terbula'\n",
    "    else:\n",
    "        for i,j in enumerate(Partition):\n",
    "            for k in range(j):\n",
    "                Young_Diagram.draw((k*unit,-i*unit),rectangle(f'+({unit},-{unit})'))\n",
    "        a = 'Diagram'\n",
    "\n",
    "    # Young_Diagram.demo(200)\n",
    "\n",
    "    if file_name=='Default' or file_name=='default':\n",
    "        file_name=f'The Young {a} of {tuple(Partition)}.svg'\n",
    "\n",
    "\n",
    "    # if Show:\n",
    "    #     display(Young_Diagram)\n",
    "    if file_name:\n",
    "        Young_Diagram.write_image(file_name)\n",
    "    return Young_Diagram"
   ]
  },
  {
   "cell_type": "code",
   "execution_count": 33,
   "metadata": {},
   "outputs": [
    {
     "name": "stdout",
     "output_type": "stream",
     "text": [
      "\\documentclass{article}\n",
      "\\usepackage{tikz}\n",
      "\\usetikzlibrary{external}\n",
      "\\tikzexternalize\n",
      "\\begin{document}\n",
      "\\begin{tikzpicture}\n",
      "\\draw (0,0) rectangle +(1,-1);\n",
      "\\draw (1,0) rectangle +(1,-1);\n",
      "\\draw (0,-1) rectangle +(1,-1);\n",
      "\\end{tikzpicture}\n",
      "\\end{document}\n",
      "\n",
      "\\begin{tikzpicture}\n",
      "\\draw (0,0) rectangle +(1,-1);\n",
      "\\draw (1,0) rectangle +(1,-1);\n",
      "\\draw (0,-1) rectangle +(1,-1);\n",
      "\\end{tikzpicture}\n"
     ]
    },
    {
     "data": {
      "text/html": [
       "<div style=\"background-color:#e0e0e0;margin:0\">\n",
       "  <div>\n",
       "    <div style=\"padding:10px;float:left\">      <img src=\"data:image/png;base64,iVBORw0KGgoAAAANSUhEUgAAAJ8AAACfCAIAAABoeZy3AAAACXBIWXMAAA7EAAAOxAGVKw4bAAAB+0lEQVR4nO3UsW2iQRhFUcusoA7nlEEHBFSwgugnW0JEgmTqIdsmaMA90IEtryxtByDdOSeZ9Om70ry8ELXb7b6f2+32MYBpmubz+bNXPMh2u/2pe7/fPwdwPB4Xi8WzVzzI4XBQN0vdMnXL1C1Tt0zdMnXL1C1Tt0zdMnXL1C1Tt0zdMnXL1C1Tt0zdMnXL1C1Tt0zdMnXL1C1Tt0zdMnXL1C1Tt0zdMnXL1C1Tt0zdMnXL1C1Tt0zdMnXL1C1Tt0zdMnXL1C1Tt0zdMnXL1C1Tt0zdMnXL1C1Tt0zdMnXL1C1Tt0zdMnXL1C1Tt0zdMnXL1C1Tt0zdMnXL1C1Tt0zdMnXL1C1Tt0zdMnXL/tc9nU7vA1itVrPZ7O8YNpvNT91fY3j9520Y5/N5oJ/5er0ul8tnr3godcvULVO3TN0ydcvULVO3TN0ydcvULVO3TN0ydcvULVO3TN0ydcvULVO3TN0ydcvULVO3TN0ydcvULVO3TN0ydcvULVO3TN0ydcvULVO3TN0ydcvULVO3TN0ydcvULVO3TN0ydcvULVO3TN0ydcvULVO3TN0ydcvULVO3TN0ydcvULVO3TN0ydcvULVO3TN0ydcvULVO3TN0ydcvULVO3TN0ydcvULVO3TN2y77r7/f7PANbr9XB1p2n6PYzL5fLsgz/UF7slVZRWNrVDAAAAAElFTkSuQmCC\">\n",
       "    </div>\n",
       "    <pre\n",
       "        style=\"width:47%;margin:0;padding:10px;float:right;white-space:pre-wrap;font-size:smaller\"\n",
       "        >\\begin{tikzpicture}\n",
       "\\draw (0,0) rectangle +(1,-1);\n",
       "\\draw (1,0) rectangle +(1,-1);\n",
       "\\draw (0,-1) rectangle +(1,-1);\n",
       "\\end{tikzpicture}</pre>\n",
       "  </div>\n",
       "  <div style=\"clear:both\"></div>\n",
       "</div>"
      ],
      "text/plain": [
       "<IPython.core.display.HTML object>"
      ]
     },
     "metadata": {},
     "output_type": "display_data"
    }
   ],
   "source": [
    "Partition = [2,1]\n",
    "terbula=[1,2,3]\n",
    "pic=Young_Diagram_Drawer(Partition,file_name='default')\n",
    "print(pic.document_code())\n",
    "print()\n",
    "print(pic.code())\n",
    "pic.demo(200)"
   ]
  },
  {
   "cell_type": "markdown",
   "metadata": {},
   "source": [
    "##### Do not have local Latex? Copy the code to overleaf!\n"
   ]
  },
  {
   "cell_type": "code",
   "execution_count": 34,
   "metadata": {},
   "outputs": [
    {
     "name": "stdout",
     "output_type": "stream",
     "text": [
      "\\documentclass{article}\n",
      "\\usepackage{tikz}\n",
      "\\usetikzlibrary{external}\n",
      "\\tikzexternalize\n",
      "\\begin{document}\n",
      "\\begin{tikzpicture}\n",
      "\\draw (0,0) rectangle +(1,-1);\n",
      "\\draw (1,0) rectangle +(1,-1);\n",
      "\\draw (0,-1) rectangle +(1,-1);\n",
      "\\end{tikzpicture}\n",
      "\\end{document}\n"
     ]
    }
   ],
   "source": [
    "Partition = [2,1]\n",
    "pic=Young_Diagram_Drawer(Partition)\n",
    "print(pic.document_code())"
   ]
  },
  {
   "cell_type": "code",
   "execution_count": 35,
   "metadata": {},
   "outputs": [
    {
     "name": "stdout",
     "output_type": "stream",
     "text": [
      "\\begin{tikzpicture}\n",
      "\\draw (0,0) rectangle +(1,-1);\n",
      "\\draw (1,0) rectangle +(1,-1);\n",
      "\\draw (0,-1) rectangle +(1,-1);\n",
      "\\end{tikzpicture}\n"
     ]
    }
   ],
   "source": [
    "print(pic.code())"
   ]
  },
  {
   "cell_type": "code",
   "execution_count": 36,
   "metadata": {},
   "outputs": [],
   "source": [
    "# Save as PDF\n",
    "Partition = [2,1]\n",
    "pic=Young_Diagram_Drawer(Partition,file_name=f'The Diagram of {Partition}.pdf')"
   ]
  },
  {
   "cell_type": "code",
   "execution_count": 37,
   "metadata": {},
   "outputs": [
    {
     "data": {
      "image/png": "[encoded data removed]",
      "image/svg+xml": [
       "<svg xmlns=\"http://www.w3.org/2000/svg\" xmlns:xlink=\"http://www.w3.org/1999/xlink\" version=\"1.1\" width=\"28.74pt\" height=\"85.44pt\" viewBox=\"0 0 28.74 85.44\">\n",
       "<path transform=\"matrix(1,0,0,-1,.1989975,.2009964)\" stroke-width=\".3985\" stroke-linecap=\"butt\" stroke-miterlimit=\"10\" stroke-linejoin=\"miter\" fill=\"none\" stroke=\"#000000\" d=\"M0 0V-28.3468H28.3468V0ZM28.3468-28.3468\"/>\n",
       "<path transform=\"matrix(1,0,0,-1,.1989975,.2009964)\" stroke-width=\".3985\" stroke-linecap=\"butt\" stroke-miterlimit=\"10\" stroke-linejoin=\"miter\" fill=\"none\" stroke=\"#000000\" d=\"M0-28.3468V-56.69362H28.3468V-28.3468ZM28.3468-56.69362\"/>\n",
       "<path transform=\"matrix(1,0,0,-1,.1989975,.2009964)\" stroke-width=\".3985\" stroke-linecap=\"butt\" stroke-miterlimit=\"10\" stroke-linejoin=\"miter\" fill=\"none\" stroke=\"#000000\" d=\"M0-56.69362V-85.04042H28.3468V-56.69362ZM28.3468-85.04042\"/>\n",
       "</svg>\n"
      ],
      "text/plain": [
       "<tikz.Picture at 0x284a027dc70>"
      ]
     },
     "execution_count": 37,
     "metadata": {},
     "output_type": "execute_result"
    }
   ],
   "source": [
    "Partition = [3,]\n",
    "Young_Diagram_Drawer(Partition,file_name='Default')\n",
    "\n",
    "Partition = [1,1,1]\n",
    "Young_Diagram_Drawer(Partition,file_name='default')"
   ]
  },
  {
   "cell_type": "code",
   "execution_count": 39,
   "metadata": {},
   "outputs": [
    {
     "data": {
      "image/png": "[encoded data removed]",
      "image/svg+xml": [
       "<svg xmlns=\"http://www.w3.org/2000/svg\" xmlns:xlink=\"http://www.w3.org/1999/xlink\" version=\"1.1\" width=\"85.44pt\" height=\"85.44pt\" viewBox=\"0 0 85.44 85.44\">\n",
       "<defs>\n",
       "<path id=\"font_1_1\" d=\"M.2659912 .63912966C.2659912 .66012576 .2649994 .6611328 .25099183 .6611328 .21199036 .61424258 .15299988 .5993042 .09700012 .5973053 .09399414 .5973053 .08898926 .5973053 .08799744 .5953064 .08699036 .5933075 .08699036 .5913086 .08699036 .5703125 .117996219 .5703125 .16999817 .5763092 .20999146 .600296V.073013309C.20999146 .037994386 .20799256 .025985718 .12199402 .025985718H.09199524V0C.13999939 .0009918213 .18998719 .0019989014 .23799134 .0019989014 .28599549 .0019989014 .33599855 .0009918213 .38398744 0V.025985718H.35398866C.2679901 .025985718 .2659912 .037002565 .2659912 .073013309V.63912966Z\"/>\n",
       "<path id=\"font_1_3\" d=\"M.22099304 .34036256C.30999757 .34036256 .34899903 .2633667 .34899903 .17434693 .34899903 .054367067 .2849884 .008361816 .22698975 .008361816 .17399597 .008361816 .08799744 .034362794 .06098938 .11135864 .06599426 .10934448 .070999149 .10934448 .07598877 .10934448 .099990848 .10934448 .117996219 .12535095 .117996219 .15135193 .117996219 .18035889 .09599304 .19335938 .07598877 .19335938 .05899048 .19335938 .032989503 .18534851 .032989503 .14834595 .032989503 .056365968 .12298584-.015625 .22898865-.015625 .33999635-.015625 .4249878 .0713501 .4249878 .1733551 .4249878 .27035523 .34498597 .34036256 .25 .35136415 .32598878 .3673706 .39898683 .43536378 .39898683 .5263672 .39898683 .6042328 .31999208 .6611328 .22999573 .6611328 .13899231 .6611328 .05899048 .6052246 .05899048 .5253601 .05899048 .4903717 .084991458 .484375 .09799194 .484375 .11898804 .484375 .13699341 .49736024 .13699341 .5233612 .13699341 .5493622 .11898804 .5623627 .09799194 .5623627 .09399414 .5623627 .08898926 .5623627 .084991458 .56036379 .11399841 .62615969 .19299317 .63812258 .22799683 .63812258 .2630005 .63812258 .32899476 .6211853 .32899476 .5253601 .32899476 .49736024 .32499696 .44737245 .29100038 .4033661 .26098634 .36436463 .22698975 .36236573 .19400025 .359375 .18899536 .359375 .1659851 .35736085 .1619873 .35736085 .15499878 .35636903 .15098572 .35536195 .15098572 .3483734 .15098572 .34136964 .1519928 .34036256 .17199707 .34036256H.22099304Z\"/>\n",
       "<path id=\"font_1_5\" d=\"M.11399841 .58535769C.12399292 .5813446 .16499329 .5683594 .20698548 .5683594 .2999878 .5683594 .35099793 .61834719 .37998963 .64715579 .37998963 .65515139 .37998963 .66015627 .37399293 .66015627 .37298585 .66015627 .37098695 .66015627 .36299134 .6561432 .32798768 .6411438 .2869873 .62934878 .23699951 .62934878 .20698548 .62934878 .1619873 .6332855 .11299133 .65515139 .101989749 .66015627 .099990848 .66015627 .09899902 .66015627 .09399414 .66015627 .09298706 .65914919 .09298706 .63916018V.34931947C.09298706 .33129884 .09298706 .32629396 .102996829 .32629396 .10798645 .32629396 .10998535 .32829286 .114990238 .33529664 .14698792 .3803711 .19099427 .39941407 .24099732 .39941407 .27598573 .39941407 .35099793 .3773651 .35099793 .20610047 .35099793 .17408753 .35099793 .116119388 .32099916 .07022095 .29599 .029312134 .25698854 .008361816 .21398926 .008361816 .147995 .008361816 .08099365 .054260255 .06298828 .13108826 .066986087 .13009644 .07499695 .12809754 .07899475 .12809754 .09199524 .12809754 .116989139 .13510132 .116989139 .16609192 .116989139 .19309998 .09799194 .20410156 .07899475 .20410156 .055999757 .20410156 .040985109 .190094 .040985109 .16209412 .040985109 .07521057 .10998535-.015625 .21598816-.015625 .31900025-.015625 .4169922 .07322693 .4169922 .2020874 .4169922 .32228089 .33898927 .41540528 .24198914 .41540528 .19099427 .41540528 .147995 .39640809 .11399841 .3603363V.58535769Z\"/>\n",
       "<path id=\"font_1_2\" d=\"M.4169922 .15492249H.39898683C.3889923 .083969119 .3809967 .07197571 .3769989 .06599426 .37199403 .057998659 .2999878 .057998659 .28599549 .057998659H.09399414C.12998963 .096969608 .19999695 .16792298 .2849884 .24986267 .34599305 .30781556 .4169922 .37576295 .4169922 .47473146 .4169922 .59298709 .32299806 .6611328 .21798706 .6611328 .10798645 .6611328 .040985109 .5639038 .040985109 .47373963 .040985109 .43473817 .069992069 .42973329 .08198547 .42973329 .09199524 .42973329 .12199402 .43572999 .12199402 .47073365 .12199402 .5017395 .09599304 .5107422 .08198547 .5107422 .07598877 .5107422 .069992069 .5097351 .06599426 .5077362 .084991458 .59298709 .14299011 .63513186 .20399475 .63513186 .29100038 .63513186 .34799195 .5659027 .34799195 .47473146 .34799195 .38775636 .29699708 .31282044 .23999024 .24786377L.040985109 .022994996V0H.3929901L.4169922 .15492249Z\"/>\n",
       "<path id=\"font_1_4\" d=\"M.33599855 .64694216C.33599855 .66793826 .33499146 .6689453 .31698609 .6689453L.019989014 .1959076V.16992188H.27799989V.07196045C.27799989 .035980226 .27598573 .025985718 .20599365 .025985718H.18699646V0C.21899414 .0019989014 .272995 .0019989014 .30699159 .0019989014 .34098817 .0019989014 .394989 .0019989014 .4269867 0V.025985718H.4079895C.33799745 .025985718 .33599855 .035980226 .33599855 .07196045V.16992188H.43798829V.1959076H.33599855V.64694216M.2809906 .5809326V.1959076H.039993287L.2809906 .5809326Z\"/>\n",
       "<path id=\"font_1_6\" d=\"M.10598755 .34527589C.10598755 .5844116 .21798706 .63812258 .2829895 .63812258 .3039856 .63812258 .35499574 .6341553 .375 .5954132 .35899354 .5954132 .32899476 .5954132 .32899476 .56040957 .32899476 .5334015 .35099793 .52441409 .36499024 .52441409 .37399293 .52441409 .40098573 .52841189 .40098573 .56240847 .40098573 .6252136 .35099793 .6611328 .28199769 .6611328 .16299439 .6611328 .037994386 .5373993 .037994386 .31628419 .037994386 .0443573 .15098572-.015625 .23098755-.015625 .32798768-.015625 .41999818 .0713501 .41999818 .20532227 .41999818 .33029176 .33898927 .42126466 .23699951 .42126466 .17599488 .42126466 .1309967 .38127137 .10598755 .31129457V.34527589M.23098755 .008361816C.10798645 .008361816 .10798645 .19232178 .10798645 .22930908 .10798645 .30130006 .14199829 .40527345 .23498535 .40527345 .2519989 .40527345 .30099488 .40527345 .33399964 .33628846 .35198976 .29730226 .35198976 .25630189 .35198976 .20631409 .35198976 .15232849 .35198976 .112335208 .33099366 .07235718 .30899049 .03135681 .2769928 .008361816 .23098755 .008361816Z\"/>\n",
       "</defs>\n",
       "<path transform=\"matrix(1,0,0,-1,.1989975,.2009964)\" stroke-width=\".3985\" stroke-linecap=\"butt\" stroke-miterlimit=\"10\" stroke-linejoin=\"miter\" fill=\"none\" stroke=\"#000000\" d=\"M0 0V-28.3468H28.3468V0ZM28.3468-28.3468\"/>\n",
       "<use data-text=\"1\" xlink:href=\"#font_1_1\" transform=\"matrix(24.7871,0,0,-24.7871,8.687996,22.363999)\"/>\n",
       "<path transform=\"matrix(1,0,0,-1,.1989975,.2009964)\" stroke-width=\".3985\" stroke-linecap=\"butt\" stroke-miterlimit=\"10\" stroke-linejoin=\"miter\" fill=\"none\" stroke=\"#000000\" d=\"M28.3468 0V-28.3468H56.69362V0ZM56.69362-28.3468\"/>\n",
       "<use data-text=\"3\" xlink:href=\"#font_1_3\" transform=\"matrix(24.7871,0,0,-24.7871,37.034997,22.363999)\"/>\n",
       "<path transform=\"matrix(1,0,0,-1,.1989975,.2009964)\" stroke-width=\".3985\" stroke-linecap=\"butt\" stroke-miterlimit=\"10\" stroke-linejoin=\"miter\" fill=\"none\" stroke=\"#000000\" d=\"M56.69362 0V-28.3468H85.04042V0ZM85.04042-28.3468\"/>\n",
       "<use data-text=\"5\" xlink:href=\"#font_1_5\" transform=\"matrix(24.7871,0,0,-24.7871,65.381999,22.363999)\"/>\n",
       "<path transform=\"matrix(1,0,0,-1,.1989975,.2009964)\" stroke-width=\".3985\" stroke-linecap=\"butt\" stroke-miterlimit=\"10\" stroke-linejoin=\"miter\" fill=\"none\" stroke=\"#000000\" d=\"M0-28.3468V-56.69362H28.3468V-28.3468ZM28.3468-56.69362\"/>\n",
       "<use data-text=\"2\" xlink:href=\"#font_1_2\" transform=\"matrix(24.7871,0,0,-24.7871,8.687996,50.71)\"/>\n",
       "<path transform=\"matrix(1,0,0,-1,.1989975,.2009964)\" stroke-width=\".3985\" stroke-linecap=\"butt\" stroke-miterlimit=\"10\" stroke-linejoin=\"miter\" fill=\"none\" stroke=\"#000000\" d=\"M28.3468-28.3468V-56.69362H56.69362V-28.3468ZM56.69362-56.69362\"/>\n",
       "<use data-text=\"4\" xlink:href=\"#font_1_4\" transform=\"matrix(24.7871,0,0,-24.7871,37.034997,50.71)\"/>\n",
       "<path transform=\"matrix(1,0,0,-1,.1989975,.2009964)\" stroke-width=\".3985\" stroke-linecap=\"butt\" stroke-miterlimit=\"10\" stroke-linejoin=\"miter\" fill=\"none\" stroke=\"#000000\" d=\"M0-56.69362V-85.04042H28.3468V-56.69362ZM28.3468-85.04042\"/>\n",
       "<use data-text=\"6\" xlink:href=\"#font_1_6\" transform=\"matrix(24.7871,0,0,-24.7871,8.687996,79.057)\"/>\n",
       "</svg>\n"
      ],
      "text/plain": [
       "<tikz.Picture at 0x284a0329490>"
      ]
     },
     "execution_count": 39,
     "metadata": {},
     "output_type": "execute_result"
    }
   ],
   "source": [
    "# Young tableaux\n",
    "Partition = [2,1]\n",
    "Young_Diagram_Drawer(Partition,terbula='default',file_name='default')\n",
    "Partition = [3,2,1]\n",
    "Young_Diagram_Drawer(Partition,terbula=[2,3,5,1,4,6],file_name='default')\n"
   ]
  },
  {
   "cell_type": "code",
   "execution_count": null,
   "metadata": {},
   "outputs": [],
   "source": [
    "Partition = [3,2,1]\n",
    "Young_Diagram_Drawer(Partition,terbula=[1,3,5,2,4,6],file_name='default')"
   ]
  }
 ],
 "metadata": {
  "kernelspec": {
   "display_name": "drawer",
   "language": "python",
   "name": "python3"
  },
  "language_info": {
   "codemirror_mode": {
    "name": "ipython",
    "version": 3
   },
   "file_extension": ".py",
   "mimetype": "text/x-python",
   "name": "python",
   "nbconvert_exporter": "python",
   "pygments_lexer": "ipython3",
   "version": "3.12.1"
  }
 },
 "nbformat": 4,
 "nbformat_minor": 2
}
