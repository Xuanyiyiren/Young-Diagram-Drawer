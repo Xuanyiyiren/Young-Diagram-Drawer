{
 "cells": [
  {
   "cell_type": "code",
   "execution_count": 16,
   "metadata": {},
   "outputs": [],
   "source": [
    "from tikz import *"
   ]
  },
  {
   "cell_type": "code",
   "execution_count": 17,
   "metadata": {},
   "outputs": [],
   "source": [
    "def Young_Diagram_Drawer(Partition,terbula=None,file_name=None):\n",
    "    # terbula is None to draw Young diagram\n",
    "    # terbula is a list or tuple to draw Young terbula\n",
    "    # file_name = None do not save the picture\n",
    "    # file_name = 'defalut' is to save picture with svg\n",
    "    # file_name = 'path/picturename.svg' to save as you wish, the type of picture can be .pdf,.svg,.png\n",
    "\n",
    "\n",
    "    Young_Diagram = Picture()\n",
    "    unit = 1\n",
    "    \n",
    "    if terbula:\n",
    "        if terbula == 'default':\n",
    "            count = 0\n",
    "            for i,j in enumerate(Partition):\n",
    "                for k in range(j):\n",
    "                    \n",
    "                    Young_Diagram.draw((k*unit,-i*unit),rectangle(f'+({unit},-{unit})'))\n",
    "                    Young_Diagram.node(fr'${count+1}$',at=((k+1/2)*unit,(-i-1/2)*unit),font=r'\\Huge')\n",
    "                    count +=1\n",
    "        else:\n",
    "            count = 0\n",
    "            for i,j in enumerate(Partition):\n",
    "                for k in range(j):\n",
    "                    \n",
    "                    Young_Diagram.draw((k*unit,-i*unit),rectangle(f'+({unit},-{unit})'))\n",
    "                    Young_Diagram.node(fr'${terbula[count]}$',at=((k+1/2)*unit,(-i-1/2)*unit),font=r'\\Huge')\n",
    "                    count +=1\n",
    "        a = 'Terbula'\n",
    "    else:\n",
    "        for i,j in enumerate(Partition):\n",
    "            for k in range(j):\n",
    "                Young_Diagram.draw((k*unit,-i*unit),rectangle(f'+({unit},-{unit})'))\n",
    "        a = 'Diagram'\n",
    "\n",
    "    # Young_Diagram.demo(200)\n",
    "\n",
    "    if file_name=='Default' or file_name=='default':\n",
    "        file_name=f'The Young {a} of {tuple(Partition)}.svg'\n",
    "\n",
    "\n",
    "    # if Show:\n",
    "    #     display(Young_Diagram)\n",
    "    if file_name:\n",
    "        Young_Diagram.write_image(file_name)\n",
    "    return Young_Diagram"
   ]
  },
  {
   "cell_type": "code",
   "execution_count": 18,
   "metadata": {},
   "outputs": [
    {
     "name": "stdout",
     "output_type": "stream",
     "text": [
      "\\documentclass{article}\n",
      "\\usepackage{tikz}\n",
      "\\usetikzlibrary{external}\n",
      "\\tikzexternalize\n",
      "\\begin{document}\n",
      "\\begin{tikzpicture}\n",
      "\\draw (0,0) rectangle +(1,-1);\n",
      "\\draw (1,0) rectangle +(1,-1);\n",
      "\\draw (0,-1) rectangle +(1,-1);\n",
      "\\end{tikzpicture}\n",
      "\\end{document}\n",
      "\n",
      "\\begin{tikzpicture}\n",
      "\\draw (0,0) rectangle +(1,-1);\n",
      "\\draw (1,0) rectangle +(1,-1);\n",
      "\\draw (0,-1) rectangle +(1,-1);\n",
      "\\end{tikzpicture}\n"
     ]
    },
    {
     "data": {
      "text/html": [
       "<div style=\"background-color:#e0e0e0;margin:0\">\n",
       "  <div>\n",
       "    <div style=\"padding:10px;float:left\">      <img src=\"data:image/png;base64,iVBORw0KGgoAAAANSUhEUgAAAJ8AAACfCAIAAABoeZy3AAAACXBIWXMAAA7EAAAOxAGVKw4bAAAB+0lEQVR4nO3UsW2iQRhFUcusoA7nlEEHBFSwgugnW0JEgmTqIdsmaMA90IEtryxtByDdOSeZ9Om70ry8ELXb7b6f2+32MYBpmubz+bNXPMh2u/2pe7/fPwdwPB4Xi8WzVzzI4XBQN0vdMnXL1C1Tt0zdMnXL1C1Tt0zdMnXL1C1Tt0zdMnXL1C1Tt0zdMnXL1C1Tt0zdMnXL1C1Tt0zdMnXL1C1Tt0zdMnXL1C1Tt0zdMnXL1C1Tt0zdMnXL1C1Tt0zdMnXL1C1Tt0zdMnXL1C1Tt0zdMnXL1C1Tt0zdMnXL1C1Tt0zdMnXL1C1Tt0zdMnXL1C1Tt0zdMnXL1C1Tt0zdMnXL1C1Tt0zdMnXL/tc9nU7vA1itVrPZ7O8YNpvNT91fY3j9520Y5/N5oJ/5er0ul8tnr3godcvULVO3TN0ydcvULVO3TN0ydcvULVO3TN0ydcvULVO3TN0ydcvULVO3TN0ydcvULVO3TN0ydcvULVO3TN0ydcvULVO3TN0ydcvULVO3TN0ydcvULVO3TN0ydcvULVO3TN0ydcvULVO3TN0ydcvULVO3TN0ydcvULVO3TN0ydcvULVO3TN0ydcvULVO3TN0ydcvULVO3TN0ydcvULVO3TN0ydcvULVO3TN2y77r7/f7PANbr9XB1p2n6PYzL5fLsgz/UF7slVZRWNrVDAAAAAElFTkSuQmCC\">\n",
       "    </div>\n",
       "    <pre\n",
       "        style=\"width:47%;margin:0;padding:10px;float:right;white-space:pre-wrap;font-size:smaller\"\n",
       "        >\\begin{tikzpicture}\n",
       "\\draw (0,0) rectangle +(1,-1);\n",
       "\\draw (1,0) rectangle +(1,-1);\n",
       "\\draw (0,-1) rectangle +(1,-1);\n",
       "\\end{tikzpicture}</pre>\n",
       "  </div>\n",
       "  <div style=\"clear:both\"></div>\n",
       "</div>"
      ],
      "text/plain": [
       "<IPython.core.display.HTML object>"
      ]
     },
     "metadata": {},
     "output_type": "display_data"
    }
   ],
   "source": [
    "Partition = [2,1]\n",
    "terbula=[1,2,3]\n",
    "pic=Young_Diagram_Drawer(Partition,file_name='default')\n",
    "print(pic.document_code())\n",
    "print()\n",
    "print(pic.code())\n",
    "pic.demo(200)"
   ]
  },
  {
   "cell_type": "code",
   "execution_count": 19,
   "metadata": {},
   "outputs": [],
   "source": [
    "# Save as PDF\n",
    "Partition = [2,1]\n",
    "pic=Young_Diagram_Drawer(Partition,file_name=f'The Diagram of {Partition}.pdf')"
   ]
  },
  {
   "cell_type": "code",
   "execution_count": 20,
   "metadata": {},
   "outputs": [
    {
     "data": {
      "image/png": "[encoded data removed]",
      "image/svg+xml": [
       "<svg xmlns=\"http://www.w3.org/2000/svg\" xmlns:xlink=\"http://www.w3.org/1999/xlink\" version=\"1.1\" width=\"28.74pt\" height=\"85.44pt\" viewBox=\"0 0 28.74 85.44\">\n",
       "<path transform=\"matrix(1,0,0,-1,.1989975,.2009964)\" stroke-width=\".3985\" stroke-linecap=\"butt\" stroke-miterlimit=\"10\" stroke-linejoin=\"miter\" fill=\"none\" stroke=\"#000000\" d=\"M0 0V-28.3468H28.3468V0ZM28.3468-28.3468\"/>\n",
       "<path transform=\"matrix(1,0,0,-1,.1989975,.2009964)\" stroke-width=\".3985\" stroke-linecap=\"butt\" stroke-miterlimit=\"10\" stroke-linejoin=\"miter\" fill=\"none\" stroke=\"#000000\" d=\"M0-28.3468V-56.69362H28.3468V-28.3468ZM28.3468-56.69362\"/>\n",
       "<path transform=\"matrix(1,0,0,-1,.1989975,.2009964)\" stroke-width=\".3985\" stroke-linecap=\"butt\" stroke-miterlimit=\"10\" stroke-linejoin=\"miter\" fill=\"none\" stroke=\"#000000\" d=\"M0-56.69362V-85.04042H28.3468V-56.69362ZM28.3468-85.04042\"/>\n",
       "</svg>\n"
      ],
      "text/plain": [
       "<tikz.Picture at 0x284a0167e00>"
      ]
     },
     "execution_count": 20,
     "metadata": {},
     "output_type": "execute_result"
    }
   ],
   "source": [
    "Partition = [3,]\n",
    "Young_Diagram_Drawer(Partition,file_name='Default')\n",
    "\n",
    "Partition = [1,1,1]\n",
    "Young_Diagram_Drawer(Partition,file_name='default')"
   ]
  },
  {
   "cell_type": "code",
   "execution_count": 21,
   "metadata": {},
   "outputs": [
    {
     "data": {
      "image/png": "[encoded data removed]",
      "image/svg+xml": [
       "<svg xmlns=\"http://www.w3.org/2000/svg\" xmlns:xlink=\"http://www.w3.org/1999/xlink\" version=\"1.1\" width=\"57.09pt\" height=\"57.09pt\" viewBox=\"0 0 57.09 57.09\">\n",
       "<defs>\n",
       "<path id=\"font_1_1\" d=\"M.2659912 .63912966C.2659912 .66012576 .2649994 .6611328 .25099183 .6611328 .21199036 .61424258 .15299988 .5993042 .09700012 .5973053 .09399414 .5973053 .08898926 .5973053 .08799744 .5953064 .08699036 .5933075 .08699036 .5913086 .08699036 .5703125 .117996219 .5703125 .16999817 .5763092 .20999146 .600296V.073013309C.20999146 .037994386 .20799256 .025985718 .12199402 .025985718H.09199524V0C.13999939 .0009918213 .18998719 .0019989014 .23799134 .0019989014 .28599549 .0019989014 .33599855 .0009918213 .38398744 0V.025985718H.35398866C.2679901 .025985718 .2659912 .037002565 .2659912 .073013309V.63912966Z\"/>\n",
       "<path id=\"font_1_2\" d=\"M.4169922 .15492249H.39898683C.3889923 .083969119 .3809967 .07197571 .3769989 .06599426 .37199403 .057998659 .2999878 .057998659 .28599549 .057998659H.09399414C.12998963 .096969608 .19999695 .16792298 .2849884 .24986267 .34599305 .30781556 .4169922 .37576295 .4169922 .47473146 .4169922 .59298709 .32299806 .6611328 .21798706 .6611328 .10798645 .6611328 .040985109 .5639038 .040985109 .47373963 .040985109 .43473817 .069992069 .42973329 .08198547 .42973329 .09199524 .42973329 .12199402 .43572999 .12199402 .47073365 .12199402 .5017395 .09599304 .5107422 .08198547 .5107422 .07598877 .5107422 .069992069 .5097351 .06599426 .5077362 .084991458 .59298709 .14299011 .63513186 .20399475 .63513186 .29100038 .63513186 .34799195 .5659027 .34799195 .47473146 .34799195 .38775636 .29699708 .31282044 .23999024 .24786377L.040985109 .022994996V0H.3929901L.4169922 .15492249Z\"/>\n",
       "<path id=\"font_1_3\" d=\"M.22099304 .34036256C.30999757 .34036256 .34899903 .2633667 .34899903 .17434693 .34899903 .054367067 .2849884 .008361816 .22698975 .008361816 .17399597 .008361816 .08799744 .034362794 .06098938 .11135864 .06599426 .10934448 .070999149 .10934448 .07598877 .10934448 .099990848 .10934448 .117996219 .12535095 .117996219 .15135193 .117996219 .18035889 .09599304 .19335938 .07598877 .19335938 .05899048 .19335938 .032989503 .18534851 .032989503 .14834595 .032989503 .056365968 .12298584-.015625 .22898865-.015625 .33999635-.015625 .4249878 .0713501 .4249878 .1733551 .4249878 .27035523 .34498597 .34036256 .25 .35136415 .32598878 .3673706 .39898683 .43536378 .39898683 .5263672 .39898683 .6042328 .31999208 .6611328 .22999573 .6611328 .13899231 .6611328 .05899048 .6052246 .05899048 .5253601 .05899048 .4903717 .084991458 .484375 .09799194 .484375 .11898804 .484375 .13699341 .49736024 .13699341 .5233612 .13699341 .5493622 .11898804 .5623627 .09799194 .5623627 .09399414 .5623627 .08898926 .5623627 .084991458 .56036379 .11399841 .62615969 .19299317 .63812258 .22799683 .63812258 .2630005 .63812258 .32899476 .6211853 .32899476 .5253601 .32899476 .49736024 .32499696 .44737245 .29100038 .4033661 .26098634 .36436463 .22698975 .36236573 .19400025 .359375 .18899536 .359375 .1659851 .35736085 .1619873 .35736085 .15499878 .35636903 .15098572 .35536195 .15098572 .3483734 .15098572 .34136964 .1519928 .34036256 .17199707 .34036256H.22099304Z\"/>\n",
       "</defs>\n",
       "<path transform=\"matrix(1,0,0,-1,.1989975,.19799805)\" stroke-width=\".3985\" stroke-linecap=\"butt\" stroke-miterlimit=\"10\" stroke-linejoin=\"miter\" fill=\"none\" stroke=\"#000000\" d=\"M0 0V-28.3468H28.3468V0ZM28.3468-28.3468\"/>\n",
       "<use data-text=\"1\" xlink:href=\"#font_1_1\" transform=\"matrix(24.7871,0,0,-24.7871,8.687996,22.361)\"/>\n",
       "<path transform=\"matrix(1,0,0,-1,.1989975,.19799805)\" stroke-width=\".3985\" stroke-linecap=\"butt\" stroke-miterlimit=\"10\" stroke-linejoin=\"miter\" fill=\"none\" stroke=\"#000000\" d=\"M28.3468 0V-28.3468H56.69362V0ZM56.69362-28.3468\"/>\n",
       "<use data-text=\"2\" xlink:href=\"#font_1_2\" transform=\"matrix(24.7871,0,0,-24.7871,37.034997,22.361)\"/>\n",
       "<path transform=\"matrix(1,0,0,-1,.1989975,.19799805)\" stroke-width=\".3985\" stroke-linecap=\"butt\" stroke-miterlimit=\"10\" stroke-linejoin=\"miter\" fill=\"none\" stroke=\"#000000\" d=\"M0-28.3468V-56.69362H28.3468V-28.3468ZM28.3468-56.69362\"/>\n",
       "<use data-text=\"3\" xlink:href=\"#font_1_3\" transform=\"matrix(24.7871,0,0,-24.7871,8.687996,50.706995)\"/>\n",
       "</svg>\n"
      ],
      "text/plain": [
       "<tikz.Picture at 0x2849f7424e0>"
      ]
     },
     "execution_count": 21,
     "metadata": {},
     "output_type": "execute_result"
    }
   ],
   "source": [
    "# Young terbula\n",
    "Partition = [2,1]\n",
    "Young_Diagram_Drawer(Partition,terbula=[1,2,3],file_name='default')"
   ]
  }
 ],
 "metadata": {
  "kernelspec": {
   "display_name": "drawer",
   "language": "python",
   "name": "python3"
  },
  "language_info": {
   "codemirror_mode": {
    "name": "ipython",
    "version": 3
   },
   "file_extension": ".py",
   "mimetype": "text/x-python",
   "name": "python",
   "nbconvert_exporter": "python",
   "pygments_lexer": "ipython3",
   "version": "3.12.1"
  }
 },
 "nbformat": 4,
 "nbformat_minor": 2
}
